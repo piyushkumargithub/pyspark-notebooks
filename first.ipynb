{
 "cells": [
  {
   "cell_type": "code",
   "execution_count": 1,
   "metadata": {},
   "outputs": [],
   "source": [
    "from pyspark.sql import SparkSession"
   ]
  },
  {
   "cell_type": "code",
   "execution_count": 2,
   "metadata": {},
   "outputs": [],
   "source": [
    "spark = SparkSession.builder.appName(\"TestSparkSetup\").getOrCreate()"
   ]
  },
  {
   "cell_type": "code",
   "execution_count": 3,
   "metadata": {},
   "outputs": [
    {
     "name": "stdout",
     "output_type": "stream",
     "text": [
      "3.5.5\n"
     ]
    }
   ],
   "source": [
    "print(spark.version)"
   ]
  },
  {
   "cell_type": "code",
   "execution_count": 4,
   "metadata": {},
   "outputs": [],
   "source": [
    "spark.stop()"
   ]
  },
  {
   "cell_type": "markdown",
   "metadata": {},
   "source": [
    "Resilient Distributed Datasets - foundation of data processing in pyspark and allow you to work with large datasets across machines"
   ]
  },
  {
   "attachments": {
    "1_e1QfLY1bXDzrLak_shBjvA.webp": {
     "image/webp": "[encoded data removed]"
    }
   },
   "cell_type": "markdown",
   "metadata": {},
   "source": [
    "![1_e1QfLY1bXDzrLak_shBjvA.webp](attachment:1_e1QfLY1bXDzrLak_shBjvA.webp)"
   ]
  },
  {
   "cell_type": "markdown",
   "metadata": {},
   "source": []
  },
  {
   "cell_type": "code",
   "execution_count": 2,
   "metadata": {},
   "outputs": [],
   "source": [
    "from pyspark.sql import SparkSession\n",
    "\n",
    "spark = SparkSession.builder.appName(\"Customer Churn Prediction\").getOrCreate()"
   ]
  },
  {
   "cell_type": "code",
   "execution_count": 3,
   "metadata": {},
   "outputs": [
    {
     "data": {
      "text/plain": [
       "['.git',\n",
       " '.gitignore',\n",
       " 'Churn_Modelling.csv',\n",
       " 'first.ipynb',\n",
       " 'pyspark-env',\n",
       " 'requirements.txt']"
      ]
     },
     "execution_count": 3,
     "metadata": {},
     "output_type": "execute_result"
    }
   ],
   "source": [
    "import os \n",
    "os.listdir()"
   ]
  },
  {
   "cell_type": "code",
   "execution_count": 4,
   "metadata": {},
   "outputs": [
    {
     "name": "stdout",
     "output_type": "stream",
     "text": [
      "root\n",
      " |-- RowNumber: integer (nullable = true)\n",
      " |-- CustomerId: integer (nullable = true)\n",
      " |-- Surname: string (nullable = true)\n",
      " |-- CreditScore: integer (nullable = true)\n",
      " |-- Geography: string (nullable = true)\n",
      " |-- Gender: string (nullable = true)\n",
      " |-- Age: integer (nullable = true)\n",
      " |-- Tenure: integer (nullable = true)\n",
      " |-- Balance: double (nullable = true)\n",
      " |-- NumOfProducts: integer (nullable = true)\n",
      " |-- HasCrCard: integer (nullable = true)\n",
      " |-- IsActiveMember: integer (nullable = true)\n",
      " |-- EstimatedSalary: double (nullable = true)\n",
      " |-- Exited: integer (nullable = true)\n",
      "\n",
      "+---------+----------+--------+-----------+---------+------+---+------+---------+-------------+---------+--------------+---------------+------+\n",
      "|RowNumber|CustomerId| Surname|CreditScore|Geography|Gender|Age|Tenure|  Balance|NumOfProducts|HasCrCard|IsActiveMember|EstimatedSalary|Exited|\n",
      "+---------+----------+--------+-----------+---------+------+---+------+---------+-------------+---------+--------------+---------------+------+\n",
      "|        1|  15634602|Hargrave|        619|   France|Female| 42|     2|      0.0|            1|        1|             1|      101348.88|     1|\n",
      "|        2|  15647311|    Hill|        608|    Spain|Female| 41|     1| 83807.86|            1|        0|             1|      112542.58|     0|\n",
      "|        3|  15619304|    Onio|        502|   France|Female| 42|     8| 159660.8|            3|        1|             0|      113931.57|     1|\n",
      "|        4|  15701354|    Boni|        699|   France|Female| 39|     1|      0.0|            2|        0|             0|       93826.63|     0|\n",
      "|        5|  15737888|Mitchell|        850|    Spain|Female| 43|     2|125510.82|            1|        1|             1|        79084.1|     0|\n",
      "+---------+----------+--------+-----------+---------+------+---+------+---------+-------------+---------+--------------+---------------+------+\n",
      "only showing top 5 rows\n",
      "\n"
     ]
    }
   ],
   "source": [
    "data = spark.read.csv(\"Churn_Modelling.csv\",header=True,inferSchema=True)\n",
    "\n",
    "data.printSchema()\n",
    "data.show(5)"
   ]
  },
  {
   "cell_type": "code",
   "execution_count": 5,
   "metadata": {},
   "outputs": [],
   "source": [
    "#Drop rows with missing values\n",
    "data_cleaned= data.dropna()"
   ]
  },
  {
   "cell_type": "code",
   "execution_count": 11,
   "metadata": {},
   "outputs": [
    {
     "name": "stdout",
     "output_type": "stream",
     "text": [
      "+---------+----------+--------+-----------+---------+------+---+------+---------+-------------+---------+--------------+---------------+------+-----------+\n",
      "|RowNumber|CustomerId| Surname|CreditScore|Geography|Gender|Age|Tenure|  Balance|NumOfProducts|HasCrCard|IsActiveMember|EstimatedSalary|Exited|GenderIndex|\n",
      "+---------+----------+--------+-----------+---------+------+---+------+---------+-------------+---------+--------------+---------------+------+-----------+\n",
      "|        1|  15634602|Hargrave|        619|   France|Female| 42|     2|      0.0|            1|        1|             1|      101348.88|     1|        1.0|\n",
      "|        2|  15647311|    Hill|        608|    Spain|Female| 41|     1| 83807.86|            1|        0|             1|      112542.58|     0|        1.0|\n",
      "|        3|  15619304|    Onio|        502|   France|Female| 42|     8| 159660.8|            3|        1|             0|      113931.57|     1|        1.0|\n",
      "|        4|  15701354|    Boni|        699|   France|Female| 39|     1|      0.0|            2|        0|             0|       93826.63|     0|        1.0|\n",
      "|        5|  15737888|Mitchell|        850|    Spain|Female| 43|     2|125510.82|            1|        1|             1|        79084.1|     0|        1.0|\n",
      "+---------+----------+--------+-----------+---------+------+---+------+---------+-------------+---------+--------------+---------------+------+-----------+\n",
      "only showing top 5 rows\n",
      "\n",
      "+---------+----------+--------+-----------+---------+---+------+---------+-------------+---------+--------------+---------------+------+-----------+\n",
      "|RowNumber|CustomerId| Surname|CreditScore|Geography|Age|Tenure|  Balance|NumOfProducts|HasCrCard|IsActiveMember|EstimatedSalary|Exited|GenderIndex|\n",
      "+---------+----------+--------+-----------+---------+---+------+---------+-------------+---------+--------------+---------------+------+-----------+\n",
      "|        1|  15634602|Hargrave|        619|   France| 42|     2|      0.0|            1|        1|             1|      101348.88|     1|        1.0|\n",
      "|        2|  15647311|    Hill|        608|    Spain| 41|     1| 83807.86|            1|        0|             1|      112542.58|     0|        1.0|\n",
      "|        3|  15619304|    Onio|        502|   France| 42|     8| 159660.8|            3|        1|             0|      113931.57|     1|        1.0|\n",
      "|        4|  15701354|    Boni|        699|   France| 39|     1|      0.0|            2|        0|             0|       93826.63|     0|        1.0|\n",
      "|        5|  15737888|Mitchell|        850|    Spain| 43|     2|125510.82|            1|        1|             1|        79084.1|     0|        1.0|\n",
      "+---------+----------+--------+-----------+---------+---+------+---------+-------------+---------+--------------+---------------+------+-----------+\n",
      "only showing top 5 rows\n",
      "\n"
     ]
    }
   ],
   "source": [
    "# Convert categorical columns to numerical ones using StringIndexer\n",
    "from pyspark.ml.feature import StringIndexer\n",
    "\n",
    "indexer = StringIndexer(inputCol=\"Gender\",outputCol=\"GenderIndex\")\n",
    "data_indexed = indexer.fit(data_cleaned).transform(data_cleaned)\n",
    "data_indexed.show(5)\n",
    "data_indexed=data_indexed.drop(\"Gender\")\n",
    "data_indexed.show(5)"
   ]
  },
  {
   "cell_type": "markdown",
   "metadata": {},
   "source": [
    "Need to combine multiple features into a single vector column before training the model"
   ]
  },
  {
   "cell_type": "code",
   "execution_count": 13,
   "metadata": {},
   "outputs": [
    {
     "name": "stdout",
     "output_type": "stream",
     "text": [
      "+--------------------+------+\n",
      "|            features|Exited|\n",
      "+--------------------+------+\n",
      "|[619.0,42.0,2.0,0...|     1|\n",
      "|[608.0,41.0,1.0,8...|     0|\n",
      "|[502.0,42.0,8.0,1...|     1|\n",
      "|[699.0,39.0,1.0,0...|     0|\n",
      "|[850.0,43.0,2.0,1...|     0|\n",
      "+--------------------+------+\n",
      "only showing top 5 rows\n",
      "\n"
     ]
    }
   ],
   "source": [
    "from pyspark.ml.feature import VectorAssembler\n",
    "\n",
    "#select the features and label column\n",
    "assembler = VectorAssembler(\n",
    "    inputCols=[\"CreditScore\",\"Age\",\"Tenure\",\"Balance\",\"NumOfProducts\",\"IsActiveMember\"],\n",
    "    outputCol=\"features\"\n",
    ")\n",
    "\n",
    "#apply the assembler to the dataframe\n",
    "data_prepared = assembler.transform(data_indexed)\n",
    "\n",
    "data_prepared.select(\"features\",\"Exited\").show(5)\n"
   ]
  },
  {
   "cell_type": "code",
   "execution_count": 14,
   "metadata": {},
   "outputs": [
    {
     "name": "stdout",
     "output_type": "stream",
     "text": [
      "+------+----------+--------------------+\n",
      "|Exited|prediction|         probability|\n",
      "+------+----------+--------------------+\n",
      "|     1|       0.0|[0.90116189337503...|\n",
      "|     0|       0.0|[0.86342556143429...|\n",
      "|     1|       0.0|[0.59878643430133...|\n",
      "|     0|       0.0|[0.80194824451861...|\n",
      "|     0|       0.0|[0.84002879162139...|\n",
      "+------+----------+--------------------+\n",
      "only showing top 5 rows\n",
      "\n"
     ]
    }
   ],
   "source": [
    "from pyspark.ml.classification import LogisticRegression\n",
    "\n",
    "#Initialize the model\n",
    "lr = LogisticRegression(featuresCol=\"features\", labelCol=\"Exited\")\n",
    "\n",
    "model = lr.fit(data_prepared)\n",
    "\n",
    "predictions=model.transform(data_prepared)\n",
    "\n",
    "predictions.select(\"Exited\",\"prediction\",\"probability\").show(5)"
   ]
  },
  {
   "cell_type": "code",
   "execution_count": 15,
   "metadata": {},
   "outputs": [
    {
     "name": "stdout",
     "output_type": "stream",
     "text": [
      "Area under ROC curve: 0.7462496989173858\n"
     ]
    }
   ],
   "source": [
    "#Evaluation\n",
    "\n",
    "from pyspark.ml.evaluation import BinaryClassificationEvaluator\n",
    "\n",
    "#initialize \n",
    "evaluator = BinaryClassificationEvaluator(labelCol=\"Exited\",metricName=\"areaUnderROC\")\n",
    "\n",
    "roc_auc= evaluator.evaluate(predictions)\n",
    "print(f\"Area under ROC curve: {roc_auc}\")"
   ]
  },
  {
   "cell_type": "code",
   "execution_count": null,
   "metadata": {},
   "outputs": [],
   "source": []
  }
 ],
 "metadata": {
  "kernelspec": {
   "display_name": "Python 3",
   "language": "python",
   "name": "python3"
  },
  "language_info": {
   "codemirror_mode": {
    "name": "ipython",
    "version": 3
   },
   "file_extension": ".py",
   "mimetype": "text/x-python",
   "name": "python",
   "nbconvert_exporter": "python",
   "pygments_lexer": "ipython3",
   "version": "3.10.4"
  }
 },
 "nbformat": 4,
 "nbformat_minor": 2
}

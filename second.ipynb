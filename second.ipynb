{
 "cells": [
  {
   "cell_type": "markdown",
   "id": "1fbec79c",
   "metadata": {},
   "source": [
    "SparkSession is entry point into all functionality in Spark, and is required to build a dataframe in PySpark."
   ]
  },
  {
   "cell_type": "code",
   "execution_count": 2,
   "id": "5020f5d6",
   "metadata": {},
   "outputs": [],
   "source": [
    "from pyspark.sql import SparkSession"
   ]
  },
  {
   "cell_type": "code",
   "execution_count": 3,
   "id": "e987e7da",
   "metadata": {},
   "outputs": [],
   "source": [
    "spark = SparkSession.builder.appName(\"pyspark\").config(\"spark.memory.offHeap.enabled\",\"true\").config(\"spark.memory.offHeap.size\",\"10g\").getOrCreate()"
   ]
  },
  {
   "cell_type": "code",
   "execution_count": 4,
   "id": "babced54",
   "metadata": {},
   "outputs": [],
   "source": [
    "df = spark.read.csv('Churn_Modelling.csv',header=True,escape=\"\\\"\")"
   ]
  },
  {
   "cell_type": "code",
   "execution_count": 5,
   "id": "9eb768be",
   "metadata": {},
   "outputs": [
    {
     "name": "stdout",
     "output_type": "stream",
     "text": [
      "+---------+----------+--------+-----------+---------+------+---+------+---------+-------------+---------+--------------+---------------+------+\n",
      "|RowNumber|CustomerId|Surname |CreditScore|Geography|Gender|Age|Tenure|Balance  |NumOfProducts|HasCrCard|IsActiveMember|EstimatedSalary|Exited|\n",
      "+---------+----------+--------+-----------+---------+------+---+------+---------+-------------+---------+--------------+---------------+------+\n",
      "|1        |15634602  |Hargrave|619        |France   |Female|42 |2     |0        |1            |1        |1             |101348.88      |1     |\n",
      "|2        |15647311  |Hill    |608        |Spain    |Female|41 |1     |83807.86 |1            |0        |1             |112542.58      |0     |\n",
      "|3        |15619304  |Onio    |502        |France   |Female|42 |8     |159660.8 |3            |1        |0             |113931.57      |1     |\n",
      "|4        |15701354  |Boni    |699        |France   |Female|39 |1     |0        |2            |0        |0             |93826.63       |0     |\n",
      "|5        |15737888  |Mitchell|850        |Spain    |Female|43 |2     |125510.82|1            |1        |1             |79084.1        |0     |\n",
      "+---------+----------+--------+-----------+---------+------+---+------+---------+-------------+---------+--------------+---------------+------+\n",
      "only showing top 5 rows\n",
      "\n"
     ]
    }
   ],
   "source": [
    "df.show(5,0)"
   ]
  },
  {
   "cell_type": "markdown",
   "id": "9967c31f",
   "metadata": {},
   "source": [
    "To display number of rows"
   ]
  },
  {
   "cell_type": "code",
   "execution_count": 6,
   "id": "13ddd602",
   "metadata": {},
   "outputs": [
    {
     "data": {
      "text/plain": [
       "10000"
      ]
     },
     "execution_count": 6,
     "metadata": {},
     "output_type": "execute_result"
    }
   ],
   "source": [
    "df.count()"
   ]
  },
  {
   "cell_type": "markdown",
   "id": "f0a7be8a",
   "metadata": {},
   "source": [
    "Unique values for a field"
   ]
  },
  {
   "cell_type": "code",
   "execution_count": 8,
   "id": "3e9cf177",
   "metadata": {},
   "outputs": [
    {
     "data": {
      "text/plain": [
       "3"
      ]
     },
     "execution_count": 8,
     "metadata": {},
     "output_type": "execute_result"
    }
   ],
   "source": [
    "df.select(\"Geography\").distinct().count()"
   ]
  },
  {
   "cell_type": "markdown",
   "id": "5a8225a5",
   "metadata": {},
   "source": [
    "group by clause example"
   ]
  },
  {
   "cell_type": "code",
   "execution_count": 9,
   "id": "d53de019",
   "metadata": {},
   "outputs": [
    {
     "name": "stdout",
     "output_type": "stream",
     "text": [
      "+---------+-------------+\n",
      "|Geography|country_count|\n",
      "+---------+-------------+\n",
      "|  Germany|         2509|\n",
      "|   France|         5014|\n",
      "|    Spain|         2477|\n",
      "+---------+-------------+\n",
      "\n"
     ]
    }
   ],
   "source": [
    "from pyspark.sql.functions import *\n",
    "from pyspark.sql.types import *\n",
    "df.groupBy(\"Geography\").agg(countDistinct(\"CustomerId\").alias(\"country_count\")).show()"
   ]
  },
  {
   "cell_type": "code",
   "execution_count": 11,
   "id": "9d2e3b60",
   "metadata": {},
   "outputs": [
    {
     "name": "stdout",
     "output_type": "stream",
     "text": [
      "+---------+-------------+\n",
      "|Geography|country_count|\n",
      "+---------+-------------+\n",
      "|   France|         5014|\n",
      "|  Germany|         2509|\n",
      "|    Spain|         2477|\n",
      "+---------+-------------+\n",
      "\n"
     ]
    }
   ],
   "source": [
    "df.groupBy(\"Geography\").agg(countDistinct(\"CustomerId\").alias(\"country_count\")).orderBy(desc(\"country_count\")).show()"
   ]
  },
  {
   "cell_type": "code",
   "execution_count": 17,
   "id": "f4b228fb",
   "metadata": {},
   "outputs": [
    {
     "name": "stdout",
     "output_type": "stream",
     "text": [
      "+--------------------+\n",
      "|max(EstimatedSalary)|\n",
      "+--------------------+\n",
      "|            99984.86|\n",
      "+--------------------+\n",
      "\n"
     ]
    }
   ],
   "source": [
    "df.select(max(\"EstimatedSalary\")).show()"
   ]
  },
  {
   "cell_type": "markdown",
   "id": "b8dddc49",
   "metadata": {},
   "source": [
    "Intially estimated Salary is of string type need to convert it into float type"
   ]
  },
  {
   "cell_type": "code",
   "execution_count": 20,
   "id": "f76a62dc",
   "metadata": {},
   "outputs": [
    {
     "name": "stdout",
     "output_type": "stream",
     "text": [
      "+--------------------+\n",
      "|max(EstimatedSalary)|\n",
      "+--------------------+\n",
      "|           199992.48|\n",
      "+--------------------+\n",
      "\n"
     ]
    }
   ],
   "source": [
    "df=df.withColumn(\"EstimatedSalary\",col(\"EstimatedSalary\").cast('float'))\n",
    "df.select(max(\"EstimatedSalary\")).show()"
   ]
  },
  {
   "cell_type": "code",
   "execution_count": 21,
   "id": "661b7aeb",
   "metadata": {},
   "outputs": [
    {
     "name": "stdout",
     "output_type": "stream",
     "text": [
      "+---------+----------+--------+-----------+---------+------+---+------+---------+-------------+---------+--------------+---------------+------+\n",
      "|RowNumber|CustomerId|Surname |CreditScore|Geography|Gender|Age|Tenure|Balance  |NumOfProducts|HasCrCard|IsActiveMember|EstimatedSalary|Exited|\n",
      "+---------+----------+--------+-----------+---------+------+---+------+---------+-------------+---------+--------------+---------------+------+\n",
      "|1        |15634602  |Hargrave|619        |France   |Female|42 |2     |0        |1            |1        |1             |101348.88      |1     |\n",
      "|2        |15647311  |Hill    |608        |Spain    |Female|41 |1     |83807.86 |1            |0        |1             |112542.58      |0     |\n",
      "|3        |15619304  |Onio    |502        |France   |Female|42 |8     |159660.8 |3            |1        |0             |113931.57      |1     |\n",
      "|4        |15701354  |Boni    |699        |France   |Female|39 |1     |0        |2            |0        |0             |93826.63       |0     |\n",
      "|5        |15737888  |Mitchell|850        |Spain    |Female|43 |2     |125510.82|1            |1        |1             |79084.1        |0     |\n",
      "+---------+----------+--------+-----------+---------+------+---+------+---------+-------------+---------+--------------+---------------+------+\n",
      "only showing top 5 rows\n",
      "\n"
     ]
    }
   ],
   "source": [
    "df.show(5,0)"
   ]
  },
  {
   "cell_type": "code",
   "execution_count": null,
   "id": "a4a42847",
   "metadata": {},
   "outputs": [],
   "source": []
  }
 ],
 "metadata": {
  "kernelspec": {
   "display_name": "pyspark-env",
   "language": "python",
   "name": "python3"
  },
  "language_info": {
   "codemirror_mode": {
    "name": "ipython",
    "version": 3
   },
   "file_extension": ".py",
   "mimetype": "text/x-python",
   "name": "python",
   "nbconvert_exporter": "python",
   "pygments_lexer": "ipython3",
   "version": "3.10.4"
  }
 },
 "nbformat": 4,
 "nbformat_minor": 5
}
